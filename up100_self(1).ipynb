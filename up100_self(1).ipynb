{
 "cells": [
  {
   "cell_type": "markdown",
   "metadata": {},
   "source": [
    "<h3>Importing the libraries</h3>"
   ]
  },
  {
   "cell_type": "code",
   "execution_count": 38,
   "metadata": {},
   "outputs": [],
   "source": [
    "import numpy as np\n",
    "import pandas as pd\n",
    "import re\n",
    "import matplotlib.pyplot as plt\n",
    "import seaborn as sns\n",
    "from plotly import __version__\n",
    "import cufflinks as cf\n",
    "from plotly.offline import download_plotlyjs,init_notebook_mode,plot,iplot\n",
    "import geopandas as gpd\n",
    "%matplotlib inline\n",
    "import plotly.plotly as py"
   ]
  },
  {
   "cell_type": "code",
   "execution_count": 2,
   "metadata": {},
   "outputs": [
    {
     "data": {
      "text/html": [
       "        <script type=\"text/javascript\">\n",
       "        window.PlotlyConfig = {MathJaxConfig: 'local'};\n",
       "        if (window.MathJax) {MathJax.Hub.Config({SVG: {font: \"STIX-Web\"}});}\n",
       "        if (typeof require !== 'undefined') {\n",
       "        require.undef(\"plotly\");\n",
       "        requirejs.config({\n",
       "            paths: {\n",
       "                'plotly': ['https://cdn.plot.ly/plotly-latest.min']\n",
       "            }\n",
       "        });\n",
       "        require(['plotly'], function(Plotly) {\n",
       "            window._Plotly = Plotly;\n",
       "        });\n",
       "        }\n",
       "        </script>\n",
       "        "
      ]
     },
     "metadata": {},
     "output_type": "display_data"
    },
    {
     "data": {
      "text/html": [
       "        <script type=\"text/javascript\">\n",
       "        window.PlotlyConfig = {MathJaxConfig: 'local'};\n",
       "        if (window.MathJax) {MathJax.Hub.Config({SVG: {font: \"STIX-Web\"}});}\n",
       "        if (typeof require !== 'undefined') {\n",
       "        require.undef(\"plotly\");\n",
       "        requirejs.config({\n",
       "            paths: {\n",
       "                'plotly': ['https://cdn.plot.ly/plotly-latest.min']\n",
       "            }\n",
       "        });\n",
       "        require(['plotly'], function(Plotly) {\n",
       "            window._Plotly = Plotly;\n",
       "        });\n",
       "        }\n",
       "        </script>\n",
       "        "
      ]
     },
     "metadata": {},
     "output_type": "display_data"
    }
   ],
   "source": [
    "%matplotlib inline\n",
    "init_notebook_mode(connected=True)\n",
    "cf.go_offline()"
   ]
  },
  {
   "cell_type": "markdown",
   "metadata": {},
   "source": [
    "<h3>Importing the csv and loading the data frame</h3>"
   ]
  },
  {
   "cell_type": "code",
   "execution_count": 3,
   "metadata": {},
   "outputs": [],
   "source": [
    "url=r'C:\\Users\\shikh\\Desktop\\Exercise_1.csv'\n",
    "data = pd.read_csv(url)"
   ]
  },
  {
   "cell_type": "code",
   "execution_count": 4,
   "metadata": {},
   "outputs": [
    {
     "data": {
      "text/html": [
       "<div>\n",
       "<style scoped>\n",
       "    .dataframe tbody tr th:only-of-type {\n",
       "        vertical-align: middle;\n",
       "    }\n",
       "\n",
       "    .dataframe tbody tr th {\n",
       "        vertical-align: top;\n",
       "    }\n",
       "\n",
       "    .dataframe thead th {\n",
       "        text-align: right;\n",
       "    }\n",
       "</style>\n",
       "<table border=\"1\" class=\"dataframe\">\n",
       "  <thead>\n",
       "    <tr style=\"text-align: right;\">\n",
       "      <th></th>\n",
       "      <th>Date</th>\n",
       "      <th>District</th>\n",
       "      <th>Type of Event</th>\n",
       "      <th>Question and Remarks</th>\n",
       "    </tr>\n",
       "  </thead>\n",
       "  <tbody>\n",
       "    <tr>\n",
       "      <th>0</th>\n",
       "      <td>20180802.0</td>\n",
       "      <td>ALLAHABAD</td>\n",
       "      <td>ABSCOND FROM CUSTODY</td>\n",
       "      <td>Q: Can we take your valuable feedback on you...</td>\n",
       "    </tr>\n",
       "    <tr>\n",
       "      <th>1</th>\n",
       "      <td>20180512.0</td>\n",
       "      <td>SIDDHARTH NAGAR</td>\n",
       "      <td>ABSCOND FROM CUSTODY</td>\n",
       "      <td>Q: Can we take your valuable feedback on you...</td>\n",
       "    </tr>\n",
       "    <tr>\n",
       "      <th>2</th>\n",
       "      <td>20180614.0</td>\n",
       "      <td>AMBEDKAR NAGAR</td>\n",
       "      <td>ABSCOND FROM CUSTODY</td>\n",
       "      <td>Q: Can we take your valuable feedback on you...</td>\n",
       "    </tr>\n",
       "    <tr>\n",
       "      <th>3</th>\n",
       "      <td>20180605.0</td>\n",
       "      <td>SIDDHARTH NAGAR</td>\n",
       "      <td>ATTEMPTED MURDER</td>\n",
       "      <td>Q: Can we take your valuable feedback on you...</td>\n",
       "    </tr>\n",
       "    <tr>\n",
       "      <th>4</th>\n",
       "      <td>20180808.0</td>\n",
       "      <td>GONDA</td>\n",
       "      <td>DOMESTIC VIOLENCE</td>\n",
       "      <td>Q: Can we take your valuable feedback on you...</td>\n",
       "    </tr>\n",
       "  </tbody>\n",
       "</table>\n",
       "</div>"
      ],
      "text/plain": [
       "         Date         District         Type of Event  \\\n",
       "0  20180802.0        ALLAHABAD  ABSCOND FROM CUSTODY   \n",
       "1  20180512.0  SIDDHARTH NAGAR  ABSCOND FROM CUSTODY   \n",
       "2  20180614.0   AMBEDKAR NAGAR  ABSCOND FROM CUSTODY   \n",
       "3  20180605.0  SIDDHARTH NAGAR      ATTEMPTED MURDER   \n",
       "4  20180808.0            GONDA     DOMESTIC VIOLENCE   \n",
       "\n",
       "                                Question and Remarks  \n",
       "0    Q: Can we take your valuable feedback on you...  \n",
       "1    Q: Can we take your valuable feedback on you...  \n",
       "2    Q: Can we take your valuable feedback on you...  \n",
       "3    Q: Can we take your valuable feedback on you...  \n",
       "4    Q: Can we take your valuable feedback on you...  "
      ]
     },
     "execution_count": 4,
     "metadata": {},
     "output_type": "execute_result"
    }
   ],
   "source": [
    "data.head()"
   ]
  },
  {
   "cell_type": "code",
   "execution_count": 5,
   "metadata": {},
   "outputs": [],
   "source": [
    "df = pd.DataFrame(data)\n",
    "df = df.iloc[0:200]"
   ]
  },
  {
   "cell_type": "markdown",
   "metadata": {},
   "source": [
    "<h3>Breaking up the Question and Remarks column into seperate colums.</h3>"
   ]
  },
  {
   "cell_type": "code",
   "execution_count": 6,
   "metadata": {},
   "outputs": [],
   "source": [
    "qna = df[\"Question and Remarks\"].tolist()\n",
    "broken = []\n",
    "for i in range(200):\n",
    "    broken.append(re.split('Q:|Ans:|Comment:|Remark:',qna[i]))\n",
    "    "
   ]
  },
  {
   "cell_type": "code",
   "execution_count": 7,
   "metadata": {},
   "outputs": [
    {
     "data": {
      "text/plain": [
       "['  ',\n",
       " ' Can we take your valuable feedback on your registered event with UP100 P12051805390?\\xa0\\xa0\\xa0',\n",
       " ' YES    ',\n",
       " ' Are you satisfied with the immediate relief provided to address your issue?\\xa0\\xa0\\xa0',\n",
       " ' Not Satisfied    ',\n",
       " ' Please select the reason\\xa0\\xa0\\xa0',\n",
       " ' No action taken by Police Station staff.    ',\n",
       " ' Do you want to share any additional feedback?\\xa0\\xa0\\xa0',\n",
       " ' -1    ',\n",
       " ' ',\n",
       " '    ',\n",
       " ' ',\n",
       " ' Caller Police Station gaye lekin unki koi bhi sahayta nahi kari gai. caller ko shak hai police ne ghoos liya hai kyoki caller call karke batata hai muzrim yaha hai paKADIYE par police kuch nahi karti hai ...   ']"
      ]
     },
     "execution_count": 7,
     "metadata": {},
     "output_type": "execute_result"
    }
   ],
   "source": [
    "broken[1]"
   ]
  },
  {
   "cell_type": "code",
   "execution_count": 8,
   "metadata": {},
   "outputs": [],
   "source": [
    "remark_col = []\n",
    "comments_col = []\n",
    "col_1 = []\n",
    "col_2 = []\n",
    "col_3 = []\n",
    "#col_4 is needed only if the length of an entry is 13. not needed in case of length 11\n",
    "col_4 = []\n",
    "for i in range(200):\n",
    "    broken[i][0] = len(broken[i])\n",
    "    remark_col.append(broken[i][-1])\n",
    "    comments_col.append(broken[i][-3])\n",
    "    col_1.append(broken[i][2])\n",
    "    col_2.append(broken[i][4])\n",
    "    col_3.append(broken[i][6])\n",
    "    if broken[i][0] == 13:\n",
    "        col_4.append(broken[i][8])\n",
    "    else:\n",
    "        col_4.append(\"NA\")\n",
    "        "
   ]
  },
  {
   "cell_type": "code",
   "execution_count": 9,
   "metadata": {},
   "outputs": [
    {
     "data": {
      "text/html": [
       "<div>\n",
       "<style scoped>\n",
       "    .dataframe tbody tr th:only-of-type {\n",
       "        vertical-align: middle;\n",
       "    }\n",
       "\n",
       "    .dataframe tbody tr th {\n",
       "        vertical-align: top;\n",
       "    }\n",
       "\n",
       "    .dataframe thead th {\n",
       "        text-align: right;\n",
       "    }\n",
       "</style>\n",
       "<table border=\"1\" class=\"dataframe\">\n",
       "  <thead>\n",
       "    <tr style=\"text-align: right;\">\n",
       "      <th></th>\n",
       "      <th>Date</th>\n",
       "      <th>District</th>\n",
       "      <th>Type of Event</th>\n",
       "      <th>Question and Remarks</th>\n",
       "      <th>Can_We_Take_Feedback</th>\n",
       "      <th>satisfaction</th>\n",
       "      <th>Reason_for_unsat</th>\n",
       "      <th>Additional_feedback</th>\n",
       "      <th>remark</th>\n",
       "      <th>comments</th>\n",
       "    </tr>\n",
       "  </thead>\n",
       "  <tbody>\n",
       "    <tr>\n",
       "      <th>0</th>\n",
       "      <td>20180802.0</td>\n",
       "      <td>ALLAHABAD</td>\n",
       "      <td>ABSCOND FROM CUSTODY</td>\n",
       "      <td>Q: Can we take your valuable feedback on you...</td>\n",
       "      <td>YES</td>\n",
       "      <td>Not Satisfied</td>\n",
       "      <td>No action taken by Police Station staff.</td>\n",
       "      <td>NO</td>\n",
       "      <td>caller santust nahi hai thane ki police vipak...</td>\n",
       "      <td></td>\n",
       "    </tr>\n",
       "    <tr>\n",
       "      <th>1</th>\n",
       "      <td>20180512.0</td>\n",
       "      <td>SIDDHARTH NAGAR</td>\n",
       "      <td>ABSCOND FROM CUSTODY</td>\n",
       "      <td>Q: Can we take your valuable feedback on you...</td>\n",
       "      <td>YES</td>\n",
       "      <td>Not Satisfied</td>\n",
       "      <td>No action taken by Police Station staff.</td>\n",
       "      <td>-1</td>\n",
       "      <td>Caller Police Station gaye lekin unki koi bhi...</td>\n",
       "      <td></td>\n",
       "    </tr>\n",
       "    <tr>\n",
       "      <th>2</th>\n",
       "      <td>20180614.0</td>\n",
       "      <td>AMBEDKAR NAGAR</td>\n",
       "      <td>ABSCOND FROM CUSTODY</td>\n",
       "      <td>Q: Can we take your valuable feedback on you...</td>\n",
       "      <td>YES</td>\n",
       "      <td>Not Satisfied</td>\n",
       "      <td>No action taken by Police Station staff.</td>\n",
       "      <td>NO</td>\n",
       "      <td>Caller Police Station gaye lekin unki koi bhi...</td>\n",
       "      <td></td>\n",
       "    </tr>\n",
       "    <tr>\n",
       "      <th>3</th>\n",
       "      <td>20180605.0</td>\n",
       "      <td>SIDDHARTH NAGAR</td>\n",
       "      <td>ATTEMPTED MURDER</td>\n",
       "      <td>Q: Can we take your valuable feedback on you...</td>\n",
       "      <td>YES</td>\n",
       "      <td>Not Satisfied</td>\n",
       "      <td>Others</td>\n",
       "      <td>NA</td>\n",
       "      <td></td>\n",
       "      <td></td>\n",
       "    </tr>\n",
       "    <tr>\n",
       "      <th>4</th>\n",
       "      <td>20180808.0</td>\n",
       "      <td>GONDA</td>\n",
       "      <td>DOMESTIC VIOLENCE</td>\n",
       "      <td>Q: Can we take your valuable feedback on you...</td>\n",
       "      <td>YES</td>\n",
       "      <td>Not Satisfied</td>\n",
       "      <td>Others</td>\n",
       "      <td>NA</td>\n",
       "      <td></td>\n",
       "      <td></td>\n",
       "    </tr>\n",
       "  </tbody>\n",
       "</table>\n",
       "</div>"
      ],
      "text/plain": [
       "         Date         District         Type of Event  \\\n",
       "0  20180802.0        ALLAHABAD  ABSCOND FROM CUSTODY   \n",
       "1  20180512.0  SIDDHARTH NAGAR  ABSCOND FROM CUSTODY   \n",
       "2  20180614.0   AMBEDKAR NAGAR  ABSCOND FROM CUSTODY   \n",
       "3  20180605.0  SIDDHARTH NAGAR      ATTEMPTED MURDER   \n",
       "4  20180808.0            GONDA     DOMESTIC VIOLENCE   \n",
       "\n",
       "                                Question and Remarks Can_We_Take_Feedback  \\\n",
       "0    Q: Can we take your valuable feedback on you...              YES       \n",
       "1    Q: Can we take your valuable feedback on you...              YES       \n",
       "2    Q: Can we take your valuable feedback on you...              YES       \n",
       "3    Q: Can we take your valuable feedback on you...              YES       \n",
       "4    Q: Can we take your valuable feedback on you...              YES       \n",
       "\n",
       "         satisfaction                               Reason_for_unsat  \\\n",
       "0   Not Satisfied       No action taken by Police Station staff.       \n",
       "1   Not Satisfied       No action taken by Police Station staff.       \n",
       "2   Not Satisfied       No action taken by Police Station staff.       \n",
       "3   Not Satisfied                                         Others       \n",
       "4   Not Satisfied                                         Others       \n",
       "\n",
       "  Additional_feedback                                             remark  \\\n",
       "0              NO       caller santust nahi hai thane ki police vipak...   \n",
       "1              -1       Caller Police Station gaye lekin unki koi bhi...   \n",
       "2              NO       Caller Police Station gaye lekin unki koi bhi...   \n",
       "3                  NA                                                      \n",
       "4                  NA                                                      \n",
       "\n",
       "  comments  \n",
       "0           \n",
       "1           \n",
       "2           \n",
       "3           \n",
       "4           "
      ]
     },
     "execution_count": 9,
     "metadata": {},
     "output_type": "execute_result"
    }
   ],
   "source": [
    "df['Can_We_Take_Feedback'] = col_1\n",
    "df['satisfaction'] = col_2\n",
    "df['Reason_for_unsat'] = col_3\n",
    "df['Additional_feedback'] = col_4\n",
    "df['remark']=remark_col\n",
    "df['comments']=comments_col\n",
    "df.head()"
   ]
  },
  {
   "cell_type": "markdown",
   "metadata": {},
   "source": [
    "<h1>Analyzing the Data</h1>"
   ]
  },
  {
   "cell_type": "markdown",
   "metadata": {},
   "source": [
    "<h5>Looking at the type of events</h5>"
   ]
  },
  {
   "cell_type": "code",
   "execution_count": 10,
   "metadata": {},
   "outputs": [
    {
     "data": {
      "text/html": [
       "<div>\n",
       "<style scoped>\n",
       "    .dataframe tbody tr th:only-of-type {\n",
       "        vertical-align: middle;\n",
       "    }\n",
       "\n",
       "    .dataframe tbody tr th {\n",
       "        vertical-align: top;\n",
       "    }\n",
       "\n",
       "    .dataframe thead th {\n",
       "        text-align: right;\n",
       "    }\n",
       "</style>\n",
       "<table border=\"1\" class=\"dataframe\">\n",
       "  <thead>\n",
       "    <tr style=\"text-align: right;\">\n",
       "      <th></th>\n",
       "      <th>Type_of_Event</th>\n",
       "      <th>frequency</th>\n",
       "    </tr>\n",
       "  </thead>\n",
       "  <tbody>\n",
       "    <tr>\n",
       "      <th>0</th>\n",
       "      <td>ACCIDENT</td>\n",
       "      <td>122</td>\n",
       "    </tr>\n",
       "    <tr>\n",
       "      <th>1</th>\n",
       "      <td>DOMESTIC VIOLENCE</td>\n",
       "      <td>24</td>\n",
       "    </tr>\n",
       "    <tr>\n",
       "      <th>2</th>\n",
       "      <td>FEMALE HARRASSMENT</td>\n",
       "      <td>11</td>\n",
       "    </tr>\n",
       "    <tr>\n",
       "      <th>3</th>\n",
       "      <td>THEFT</td>\n",
       "      <td>10</td>\n",
       "    </tr>\n",
       "    <tr>\n",
       "      <th>4</th>\n",
       "      <td>THREAT IN PERSON</td>\n",
       "      <td>6</td>\n",
       "    </tr>\n",
       "    <tr>\n",
       "      <th>5</th>\n",
       "      <td>ATTEMPTED MURDER</td>\n",
       "      <td>6</td>\n",
       "    </tr>\n",
       "    <tr>\n",
       "      <th>6</th>\n",
       "      <td>ENCROACHMENT</td>\n",
       "      <td>3</td>\n",
       "    </tr>\n",
       "    <tr>\n",
       "      <th>7</th>\n",
       "      <td>ABSCOND FROM CUSTODY</td>\n",
       "      <td>3</td>\n",
       "    </tr>\n",
       "    <tr>\n",
       "      <th>8</th>\n",
       "      <td>GAMBLING</td>\n",
       "      <td>2</td>\n",
       "    </tr>\n",
       "    <tr>\n",
       "      <th>9</th>\n",
       "      <td>ROBBERY</td>\n",
       "      <td>2</td>\n",
       "    </tr>\n",
       "    <tr>\n",
       "      <th>10</th>\n",
       "      <td>TRAFFIC JAM</td>\n",
       "      <td>2</td>\n",
       "    </tr>\n",
       "    <tr>\n",
       "      <th>11</th>\n",
       "      <td>MISSING</td>\n",
       "      <td>1</td>\n",
       "    </tr>\n",
       "    <tr>\n",
       "      <th>12</th>\n",
       "      <td>POLLUTION</td>\n",
       "      <td>1</td>\n",
       "    </tr>\n",
       "    <tr>\n",
       "      <th>13</th>\n",
       "      <td>UNKNOWN</td>\n",
       "      <td>1</td>\n",
       "    </tr>\n",
       "    <tr>\n",
       "      <th>14</th>\n",
       "      <td>ASSAULT/RIOT/COMMOTION</td>\n",
       "      <td>1</td>\n",
       "    </tr>\n",
       "    <tr>\n",
       "      <th>15</th>\n",
       "      <td>DOWRY RELATED CRIME</td>\n",
       "      <td>1</td>\n",
       "    </tr>\n",
       "    <tr>\n",
       "      <th>16</th>\n",
       "      <td>CRIME ON PHONE_MOBILE_SOCIAL MEDIA_INTERNET</td>\n",
       "      <td>1</td>\n",
       "    </tr>\n",
       "    <tr>\n",
       "      <th>17</th>\n",
       "      <td>INFORMATION_AGAINST_POLICE</td>\n",
       "      <td>1</td>\n",
       "    </tr>\n",
       "    <tr>\n",
       "      <th>18</th>\n",
       "      <td>FEMALE SEXUAL HARRASSMENT</td>\n",
       "      <td>1</td>\n",
       "    </tr>\n",
       "    <tr>\n",
       "      <th>19</th>\n",
       "      <td>GRP-CHILD CRIME</td>\n",
       "      <td>1</td>\n",
       "    </tr>\n",
       "  </tbody>\n",
       "</table>\n",
       "</div>"
      ],
      "text/plain": [
       "                                  Type_of_Event  frequency\n",
       "0                                      ACCIDENT        122\n",
       "1                             DOMESTIC VIOLENCE         24\n",
       "2                            FEMALE HARRASSMENT         11\n",
       "3                                         THEFT         10\n",
       "4                              THREAT IN PERSON          6\n",
       "5                              ATTEMPTED MURDER          6\n",
       "6                                  ENCROACHMENT          3\n",
       "7                          ABSCOND FROM CUSTODY          3\n",
       "8                                      GAMBLING          2\n",
       "9                                       ROBBERY          2\n",
       "10                                  TRAFFIC JAM          2\n",
       "11                                      MISSING          1\n",
       "12                                    POLLUTION          1\n",
       "13                                      UNKNOWN          1\n",
       "14                       ASSAULT/RIOT/COMMOTION          1\n",
       "15                          DOWRY RELATED CRIME          1\n",
       "16  CRIME ON PHONE_MOBILE_SOCIAL MEDIA_INTERNET          1\n",
       "17                   INFORMATION_AGAINST_POLICE          1\n",
       "18                    FEMALE SEXUAL HARRASSMENT          1\n",
       "19                              GRP-CHILD CRIME          1"
      ]
     },
     "execution_count": 10,
     "metadata": {},
     "output_type": "execute_result"
    }
   ],
   "source": [
    "freq = df['Type of Event'].value_counts().reindex(index=None)\n",
    "freq_df=freq.rename_axis('Type_of_Event').reset_index(name='frequency')\n",
    "freq_df"
   ]
  },
  {
   "cell_type": "code",
   "execution_count": 11,
   "metadata": {},
   "outputs": [
    {
     "data": {
      "application/vnd.plotly.v1+json": {
       "config": {
        "linkText": "Export to plot.ly",
        "plotlyServerURL": "https://plot.ly",
        "responsive": true,
        "showLink": true
       },
       "data": [
        {
         "labels": [
          "ACCIDENT",
          "DOMESTIC VIOLENCE",
          "FEMALE HARRASSMENT",
          "THEFT",
          "THREAT IN PERSON",
          "ATTEMPTED MURDER",
          "ENCROACHMENT",
          "ABSCOND FROM CUSTODY",
          "GAMBLING",
          "ROBBERY",
          "TRAFFIC JAM",
          "MISSING",
          "POLLUTION",
          "UNKNOWN",
          "ASSAULT/RIOT/COMMOTION",
          "DOWRY RELATED CRIME",
          "CRIME ON PHONE_MOBILE_SOCIAL MEDIA_INTERNET",
          "INFORMATION_AGAINST_POLICE",
          "FEMALE SEXUAL HARRASSMENT",
          "GRP-CHILD CRIME"
         ],
         "marker": {
          "colors": [
           "rgba(255, 153, 51, 1.0)",
           "rgba(55, 128, 191, 1.0)",
           "rgba(50, 171, 96, 1.0)",
           "rgba(128, 0, 128, 1.0)",
           "rgba(219, 64, 82, 1.0)",
           "rgba(0, 128, 128, 1.0)",
           "rgba(255, 255, 51, 1.0)",
           "rgba(128, 128, 0, 1.0)",
           "rgba(251, 128, 114, 1.0)",
           "rgba(128, 177, 211, 1.0)",
           "rgba(128, 177, 211, 0.8999999999999999)",
           "rgba(255, 153, 51, 0.8999999999999999)",
           "rgba(55, 128, 191, 0.8999999999999999)",
           "rgba(50, 171, 96, 0.8999999999999999)",
           "rgba(128, 0, 128, 0.8999999999999999)",
           "rgba(219, 64, 82, 0.8999999999999999)",
           "rgba(0, 128, 128, 0.8999999999999999)",
           "rgba(255, 255, 51, 0.8999999999999999)",
           "rgba(128, 128, 0, 0.8999999999999999)",
           "rgba(251, 128, 114, 0.8999999999999999)"
          ]
         },
         "name": "",
         "type": "pie",
         "values": [
          122,
          24,
          11,
          10,
          6,
          6,
          3,
          3,
          2,
          2,
          2,
          1,
          1,
          1,
          1,
          1,
          1,
          1,
          1,
          1
         ]
        }
       ],
       "layout": {
        "legend": {
         "bgcolor": "#F5F6F9",
         "font": {
          "color": "#4D5663"
         }
        },
        "paper_bgcolor": "#F5F6F9",
        "plot_bgcolor": "#F5F6F9",
        "titlefont": {
         "color": "#4D5663"
        }
       }
      },
      "text/html": [
       "<div>\n",
       "        \n",
       "        \n",
       "            <div id=\"29d5d105-8dff-4e2e-b260-21921ac0e92c\" class=\"plotly-graph-div\" style=\"height:525px; width:100%;\"></div>\n",
       "            <script type=\"text/javascript\">\n",
       "                require([\"plotly\"], function(Plotly) {\n",
       "                    window.PLOTLYENV=window.PLOTLYENV || {};\n",
       "                    window.PLOTLYENV.BASE_URL='https://plot.ly';\n",
       "                    \n",
       "                if (document.getElementById(\"29d5d105-8dff-4e2e-b260-21921ac0e92c\")) {\n",
       "                    Plotly.newPlot(\n",
       "                        '29d5d105-8dff-4e2e-b260-21921ac0e92c',\n",
       "                        [{\"labels\": [\"ACCIDENT\", \"DOMESTIC VIOLENCE\", \"FEMALE HARRASSMENT\", \"THEFT\", \"THREAT IN PERSON\", \"ATTEMPTED MURDER\", \"ENCROACHMENT\", \"ABSCOND FROM CUSTODY\", \"GAMBLING\", \"ROBBERY\", \"TRAFFIC JAM\", \"MISSING\", \"POLLUTION\", \"UNKNOWN\", \"ASSAULT/RIOT/COMMOTION\", \"DOWRY RELATED CRIME\", \"CRIME ON PHONE_MOBILE_SOCIAL MEDIA_INTERNET\", \"INFORMATION_AGAINST_POLICE\", \"FEMALE SEXUAL HARRASSMENT\", \"GRP-CHILD CRIME\"], \"marker\": {\"colors\": [\"rgba(255, 153, 51, 1.0)\", \"rgba(55, 128, 191, 1.0)\", \"rgba(50, 171, 96, 1.0)\", \"rgba(128, 0, 128, 1.0)\", \"rgba(219, 64, 82, 1.0)\", \"rgba(0, 128, 128, 1.0)\", \"rgba(255, 255, 51, 1.0)\", \"rgba(128, 128, 0, 1.0)\", \"rgba(251, 128, 114, 1.0)\", \"rgba(128, 177, 211, 1.0)\", \"rgba(128, 177, 211, 0.8999999999999999)\", \"rgba(255, 153, 51, 0.8999999999999999)\", \"rgba(55, 128, 191, 0.8999999999999999)\", \"rgba(50, 171, 96, 0.8999999999999999)\", \"rgba(128, 0, 128, 0.8999999999999999)\", \"rgba(219, 64, 82, 0.8999999999999999)\", \"rgba(0, 128, 128, 0.8999999999999999)\", \"rgba(255, 255, 51, 0.8999999999999999)\", \"rgba(128, 128, 0, 0.8999999999999999)\", \"rgba(251, 128, 114, 0.8999999999999999)\"]}, \"name\": \"\", \"type\": \"pie\", \"uid\": \"9ac317cd-ce53-40bc-bc58-c8187c7df833\", \"values\": [122, 24, 11, 10, 6, 6, 3, 3, 2, 2, 2, 1, 1, 1, 1, 1, 1, 1, 1, 1]}],\n",
       "                        {\"legend\": {\"bgcolor\": \"#F5F6F9\", \"font\": {\"color\": \"#4D5663\"}}, \"paper_bgcolor\": \"#F5F6F9\", \"plot_bgcolor\": \"#F5F6F9\", \"title\": {\"font\": {\"color\": \"#4D5663\"}}},\n",
       "                        {\"showLink\": true, \"linkText\": \"Export to plot.ly\", \"plotlyServerURL\": \"https://plot.ly\", \"responsive\": true}\n",
       "                    ).then(function(){\n",
       "                            \n",
       "var gd = document.getElementById('29d5d105-8dff-4e2e-b260-21921ac0e92c');\n",
       "var x = new MutationObserver(function (mutations, observer) {{\n",
       "        var display = window.getComputedStyle(gd).display;\n",
       "        if (!display || display === 'none') {{\n",
       "            console.log([gd, 'removed!']);\n",
       "            Plotly.purge(gd);\n",
       "            observer.disconnect();\n",
       "        }}\n",
       "}});\n",
       "\n",
       "// Listen for the removal of the full notebook cells\n",
       "var notebookContainer = gd.closest('#notebook-container');\n",
       "if (notebookContainer) {{\n",
       "    x.observe(notebookContainer, {childList: true});\n",
       "}}\n",
       "\n",
       "// Listen for the clearing of the current output cell\n",
       "var outputEl = gd.closest('.output');\n",
       "if (outputEl) {{\n",
       "    x.observe(outputEl, {childList: true});\n",
       "}}\n",
       "\n",
       "                        })\n",
       "                };\n",
       "                });\n",
       "            </script>\n",
       "        </div>"
      ]
     },
     "metadata": {},
     "output_type": "display_data"
    }
   ],
   "source": [
    "freq_df.iplot(kind='pie',labels='Type_of_Event',values='frequency')"
   ]
  },
  {
   "cell_type": "markdown",
   "metadata": {},
   "source": [
    "<h5>District Wise Cases</h5>"
   ]
  },
  {
   "cell_type": "code",
   "execution_count": 12,
   "metadata": {},
   "outputs": [
    {
     "data": {
      "text/html": [
       "<div>\n",
       "<style scoped>\n",
       "    .dataframe tbody tr th:only-of-type {\n",
       "        vertical-align: middle;\n",
       "    }\n",
       "\n",
       "    .dataframe tbody tr th {\n",
       "        vertical-align: top;\n",
       "    }\n",
       "\n",
       "    .dataframe thead th {\n",
       "        text-align: right;\n",
       "    }\n",
       "</style>\n",
       "<table border=\"1\" class=\"dataframe\">\n",
       "  <thead>\n",
       "    <tr style=\"text-align: right;\">\n",
       "      <th></th>\n",
       "      <th>DT_CEN_CD</th>\n",
       "      <th>ST_CEN_CD</th>\n",
       "      <th>censuscode</th>\n",
       "      <th>district</th>\n",
       "      <th>state</th>\n",
       "      <th>unique_id</th>\n",
       "      <th>geometry</th>\n",
       "    </tr>\n",
       "  </thead>\n",
       "  <tbody>\n",
       "    <tr>\n",
       "      <th>0</th>\n",
       "      <td>15</td>\n",
       "      <td>9</td>\n",
       "      <td>146</td>\n",
       "      <td>Agra</td>\n",
       "      <td>Uttar Pradesh</td>\n",
       "      <td>15</td>\n",
       "      <td>POLYGON ((77.64748400000001 27.242251, 77.6503...</td>\n",
       "    </tr>\n",
       "    <tr>\n",
       "      <th>1</th>\n",
       "      <td>19</td>\n",
       "      <td>9</td>\n",
       "      <td>150</td>\n",
       "      <td>Bareilly</td>\n",
       "      <td>Uttar Pradesh</td>\n",
       "      <td>20</td>\n",
       "      <td>POLYGON ((78.971249 28.421907, 78.98309 28.435...</td>\n",
       "    </tr>\n",
       "    <tr>\n",
       "      <th>2</th>\n",
       "      <td>70</td>\n",
       "      <td>9</td>\n",
       "      <td>201</td>\n",
       "      <td>Etah</td>\n",
       "      <td>Uttar Pradesh</td>\n",
       "      <td>17</td>\n",
       "      <td>POLYGON ((79.219089 27.576993, 79.229055 27.56...</td>\n",
       "    </tr>\n",
       "    <tr>\n",
       "      <th>3</th>\n",
       "      <td>21</td>\n",
       "      <td>9</td>\n",
       "      <td>152</td>\n",
       "      <td>Shahjahanpur</td>\n",
       "      <td>Uttar Pradesh</td>\n",
       "      <td>22</td>\n",
       "      <td>POLYGON ((80.316013 28.46029, 80.321928 28.454...</td>\n",
       "    </tr>\n",
       "    <tr>\n",
       "      <th>4</th>\n",
       "      <td>20</td>\n",
       "      <td>9</td>\n",
       "      <td>151</td>\n",
       "      <td>Pilibhit</td>\n",
       "      <td>Uttar Pradesh</td>\n",
       "      <td>21</td>\n",
       "      <td>POLYGON ((79.684729 28.849987, 79.693552 28.84...</td>\n",
       "    </tr>\n",
       "  </tbody>\n",
       "</table>\n",
       "</div>"
      ],
      "text/plain": [
       "  DT_CEN_CD ST_CEN_CD censuscode      district          state unique_id  \\\n",
       "0        15         9        146          Agra  Uttar Pradesh        15   \n",
       "1        19         9        150      Bareilly  Uttar Pradesh        20   \n",
       "2        70         9        201          Etah  Uttar Pradesh        17   \n",
       "3        21         9        152  Shahjahanpur  Uttar Pradesh        22   \n",
       "4        20         9        151      Pilibhit  Uttar Pradesh        21   \n",
       "\n",
       "                                            geometry  \n",
       "0  POLYGON ((77.64748400000001 27.242251, 77.6503...  \n",
       "1  POLYGON ((78.971249 28.421907, 78.98309 28.435...  \n",
       "2  POLYGON ((79.219089 27.576993, 79.229055 27.56...  \n",
       "3  POLYGON ((80.316013 28.46029, 80.321928 28.454...  \n",
       "4  POLYGON ((79.684729 28.849987, 79.693552 28.84...  "
      ]
     },
     "execution_count": 12,
     "metadata": {},
     "output_type": "execute_result"
    }
   ],
   "source": [
    "fp = \"UP_shape/uttarpradesh_district.shp\"\n",
    "\n",
    "#reading the file stored in variable fp\n",
    "map_df = gpd.read_file(fp)\n",
    "\n",
    "# check data type so we can see that this is not a normal dataframe, but a GEOdataframe\n",
    "\n",
    "map_df.head()"
   ]
  },
  {
   "cell_type": "code",
   "execution_count": 13,
   "metadata": {},
   "outputs": [
    {
     "data": {
      "text/plain": [
       "<matplotlib.axes._subplots.AxesSubplot at 0x23255180940>"
      ]
     },
     "execution_count": 13,
     "metadata": {},
     "output_type": "execute_result"
    },
    {
     "data": {
      "image/png": "[encoded data removed]",
      "text/plain": [
       "<Figure size 432x288 with 1 Axes>"
      ]
     },
     "metadata": {
      "needs_background": "light"
     },
     "output_type": "display_data"
    }
   ],
   "source": [
    "#preview the shapefile\n",
    "map_df.plot()"
   ]
  },
  {
   "cell_type": "code",
   "execution_count": 14,
   "metadata": {},
   "outputs": [],
   "source": [
    "#Extracting District wise case count from original data frame\n",
    "district_count = df['District'].value_counts().reindex(index=None) # type series\n",
    "freq_dist = district_count.rename_axis('district').reset_index(name='no_of_cases')\n",
    "freq_dist = freq_dist.sort_values(by=['district'])\n",
    "freq_dist = freq_dist.reset_index(drop=True)"
   ]
  },
  {
   "cell_type": "code",
   "execution_count": 15,
   "metadata": {},
   "outputs": [],
   "source": [
    "map_df['district'] = map_df['district'].str.upper()\n",
    "map_df = map_df.sort_values(by=['district'])\n",
    "map_df = map_df.reset_index(drop=True)\n"
   ]
  },
  {
   "cell_type": "code",
   "execution_count": 16,
   "metadata": {
    "scrolled": true
   },
   "outputs": [],
   "source": [
    "merged = map_df.set_index('district').join(freq_dist.set_index('district'))"
   ]
  },
  {
   "cell_type": "code",
   "execution_count": 17,
   "metadata": {},
   "outputs": [
    {
     "data": {
      "text/html": [
       "<div>\n",
       "<style scoped>\n",
       "    .dataframe tbody tr th:only-of-type {\n",
       "        vertical-align: middle;\n",
       "    }\n",
       "\n",
       "    .dataframe tbody tr th {\n",
       "        vertical-align: top;\n",
       "    }\n",
       "\n",
       "    .dataframe thead th {\n",
       "        text-align: right;\n",
       "    }\n",
       "</style>\n",
       "<table border=\"1\" class=\"dataframe\">\n",
       "  <thead>\n",
       "    <tr style=\"text-align: right;\">\n",
       "      <th></th>\n",
       "      <th>DT_CEN_CD</th>\n",
       "      <th>ST_CEN_CD</th>\n",
       "      <th>censuscode</th>\n",
       "      <th>state</th>\n",
       "      <th>unique_id</th>\n",
       "      <th>geometry</th>\n",
       "      <th>no_of_cases</th>\n",
       "    </tr>\n",
       "    <tr>\n",
       "      <th>district</th>\n",
       "      <th></th>\n",
       "      <th></th>\n",
       "      <th></th>\n",
       "      <th></th>\n",
       "      <th></th>\n",
       "      <th></th>\n",
       "      <th></th>\n",
       "    </tr>\n",
       "  </thead>\n",
       "  <tbody>\n",
       "    <tr>\n",
       "      <th>AGRA</th>\n",
       "      <td>15</td>\n",
       "      <td>9</td>\n",
       "      <td>146</td>\n",
       "      <td>Uttar Pradesh</td>\n",
       "      <td>15</td>\n",
       "      <td>POLYGON ((77.64748400000001 27.242251, 77.6503...</td>\n",
       "      <td>8.0</td>\n",
       "    </tr>\n",
       "    <tr>\n",
       "      <th>ALIGARH</th>\n",
       "      <td>12</td>\n",
       "      <td>9</td>\n",
       "      <td>143</td>\n",
       "      <td>Uttar Pradesh</td>\n",
       "      <td>12</td>\n",
       "      <td>POLYGON ((77.510501 27.926842, 77.506929 27.93...</td>\n",
       "      <td>1.0</td>\n",
       "    </tr>\n",
       "    <tr>\n",
       "      <th>ALLAHABAD</th>\n",
       "      <td>44</td>\n",
       "      <td>9</td>\n",
       "      <td>175</td>\n",
       "      <td>Uttar Pradesh</td>\n",
       "      <td>45</td>\n",
       "      <td>POLYGON ((81.54209 25.185582, 81.541742 25.187...</td>\n",
       "      <td>9.0</td>\n",
       "    </tr>\n",
       "    <tr>\n",
       "      <th>AMBEDKAR NAGAR</th>\n",
       "      <td>47</td>\n",
       "      <td>9</td>\n",
       "      <td>178</td>\n",
       "      <td>Uttar Pradesh</td>\n",
       "      <td>48</td>\n",
       "      <td>POLYGON ((82.22024999999999 26.408923, 82.2227...</td>\n",
       "      <td>3.0</td>\n",
       "    </tr>\n",
       "    <tr>\n",
       "      <th>AMETHI</th>\n",
       "      <td>NA</td>\n",
       "      <td>9</td>\n",
       "      <td>NA</td>\n",
       "      <td>Uttar Pradesh</td>\n",
       "      <td>72</td>\n",
       "      <td>POLYGON ((81.346538 26.543837, 81.353065 26.54...</td>\n",
       "      <td>3.0</td>\n",
       "    </tr>\n",
       "  </tbody>\n",
       "</table>\n",
       "</div>"
      ],
      "text/plain": [
       "               DT_CEN_CD ST_CEN_CD censuscode          state unique_id  \\\n",
       "district                                                                 \n",
       "AGRA                  15         9        146  Uttar Pradesh        15   \n",
       "ALIGARH               12         9        143  Uttar Pradesh        12   \n",
       "ALLAHABAD             44         9        175  Uttar Pradesh        45   \n",
       "AMBEDKAR NAGAR        47         9        178  Uttar Pradesh        48   \n",
       "AMETHI                NA         9         NA  Uttar Pradesh        72   \n",
       "\n",
       "                                                         geometry  no_of_cases  \n",
       "district                                                                        \n",
       "AGRA            POLYGON ((77.64748400000001 27.242251, 77.6503...          8.0  \n",
       "ALIGARH         POLYGON ((77.510501 27.926842, 77.506929 27.93...          1.0  \n",
       "ALLAHABAD       POLYGON ((81.54209 25.185582, 81.541742 25.187...          9.0  \n",
       "AMBEDKAR NAGAR  POLYGON ((82.22024999999999 26.408923, 82.2227...          3.0  \n",
       "AMETHI          POLYGON ((81.346538 26.543837, 81.353065 26.54...          3.0  "
      ]
     },
     "execution_count": 17,
     "metadata": {},
     "output_type": "execute_result"
    }
   ],
   "source": [
    "merged = merged.fillna(0)\n",
    "merged.head()"
   ]
  },
  {
   "cell_type": "code",
   "execution_count": 18,
   "metadata": {},
   "outputs": [
    {
     "data": {
      "image/png": "[encoded data removed]",
      "text/plain": [
       "<Figure size 720x432 with 2 Axes>"
      ]
     },
     "metadata": {
      "needs_background": "light"
     },
     "output_type": "display_data"
    },
    {
     "data": {
      "image/png": "[encoded data removed]",
      "text/plain": [
       "<Figure size 1440x1440 with 1 Axes>"
      ]
     },
     "metadata": {
      "needs_background": "light"
     },
     "output_type": "display_data"
    }
   ],
   "source": [
    "fig2, ax = plt.subplots(1, figsize=(10, 6))\n",
    "fig1 = merged.plot(column='no_of_cases',cmap='Reds',figsize=(20,20))\n",
    "ax.axis('off')\n",
    "sm = plt.cm.ScalarMappable(cmap='Reds', norm=plt.Normalize(vmin=0, vmax=20))\n",
    "# empty array for the data range\n",
    "sm._A = []\n",
    "# add the colorbar to the figure\n",
    "cbar = fig2.colorbar(sm)"
   ]
  },
  {
   "cell_type": "markdown",
   "metadata": {},
   "source": [
    "<h5>Events by Day of the week</h5>"
   ]
  },
  {
   "cell_type": "code",
   "execution_count": 22,
   "metadata": {},
   "outputs": [
    {
     "name": "stdout",
     "output_type": "stream",
     "text": [
      "<class 'pandas.core.frame.DataFrame'>\n",
      "RangeIndex: 200 entries, 0 to 199\n",
      "Data columns (total 10 columns):\n",
      "Date                    200 non-null object\n",
      "District                200 non-null object\n",
      "Type of Event           200 non-null object\n",
      "Question and Remarks    200 non-null object\n",
      "Can_We_Take_Feedback    200 non-null object\n",
      "satisfaction            200 non-null object\n",
      "Reason_for_unsat        200 non-null object\n",
      "Additional_feedback     200 non-null object\n",
      "remark                  200 non-null object\n",
      "comments                200 non-null object\n",
      "dtypes: object(10)\n",
      "memory usage: 15.7+ KB\n"
     ]
    }
   ],
   "source": [
    "df['Date'] = df['Date'].astype(int)\n",
    "df['Date'] = df['Date'].astype(str)\n",
    "df.info()\n",
    "df.shape\n",
    "df['Date'] = df['Date'].str[:4] + '-' + df['Date'].str[4:6] + '-' + df['Date'].str[6:]"
   ]
  },
  {
   "cell_type": "code",
   "execution_count": 23,
   "metadata": {},
   "outputs": [],
   "source": [
    "df['Date'] = df['Date'].str[:] + \" 01:00:00\""
   ]
  },
  {
   "cell_type": "code",
   "execution_count": 28,
   "metadata": {},
   "outputs": [],
   "source": [
    "df['Date'] = pd.to_datetime(df['Date'])"
   ]
  },
  {
   "cell_type": "code",
   "execution_count": 29,
   "metadata": {},
   "outputs": [
    {
     "data": {
      "text/html": [
       "<div>\n",
       "<style scoped>\n",
       "    .dataframe tbody tr th:only-of-type {\n",
       "        vertical-align: middle;\n",
       "    }\n",
       "\n",
       "    .dataframe tbody tr th {\n",
       "        vertical-align: top;\n",
       "    }\n",
       "\n",
       "    .dataframe thead th {\n",
       "        text-align: right;\n",
       "    }\n",
       "</style>\n",
       "<table border=\"1\" class=\"dataframe\">\n",
       "  <thead>\n",
       "    <tr style=\"text-align: right;\">\n",
       "      <th></th>\n",
       "      <th>Date</th>\n",
       "      <th>District</th>\n",
       "      <th>Type of Event</th>\n",
       "      <th>Question and Remarks</th>\n",
       "      <th>Can_We_Take_Feedback</th>\n",
       "      <th>satisfaction</th>\n",
       "      <th>Reason_for_unsat</th>\n",
       "      <th>Additional_feedback</th>\n",
       "      <th>remark</th>\n",
       "      <th>comments</th>\n",
       "    </tr>\n",
       "  </thead>\n",
       "  <tbody>\n",
       "    <tr>\n",
       "      <th>0</th>\n",
       "      <td>2018-08-02 01:00:00</td>\n",
       "      <td>ALLAHABAD</td>\n",
       "      <td>ABSCOND FROM CUSTODY</td>\n",
       "      <td>Q: Can we take your valuable feedback on you...</td>\n",
       "      <td>YES</td>\n",
       "      <td>Not Satisfied</td>\n",
       "      <td>No action taken by Police Station staff.</td>\n",
       "      <td>NO</td>\n",
       "      <td>caller santust nahi hai thane ki police vipak...</td>\n",
       "      <td></td>\n",
       "    </tr>\n",
       "    <tr>\n",
       "      <th>1</th>\n",
       "      <td>2018-05-12 01:00:00</td>\n",
       "      <td>SIDDHARTH NAGAR</td>\n",
       "      <td>ABSCOND FROM CUSTODY</td>\n",
       "      <td>Q: Can we take your valuable feedback on you...</td>\n",
       "      <td>YES</td>\n",
       "      <td>Not Satisfied</td>\n",
       "      <td>No action taken by Police Station staff.</td>\n",
       "      <td>-1</td>\n",
       "      <td>Caller Police Station gaye lekin unki koi bhi...</td>\n",
       "      <td></td>\n",
       "    </tr>\n",
       "    <tr>\n",
       "      <th>2</th>\n",
       "      <td>2018-06-14 01:00:00</td>\n",
       "      <td>AMBEDKAR NAGAR</td>\n",
       "      <td>ABSCOND FROM CUSTODY</td>\n",
       "      <td>Q: Can we take your valuable feedback on you...</td>\n",
       "      <td>YES</td>\n",
       "      <td>Not Satisfied</td>\n",
       "      <td>No action taken by Police Station staff.</td>\n",
       "      <td>NO</td>\n",
       "      <td>Caller Police Station gaye lekin unki koi bhi...</td>\n",
       "      <td></td>\n",
       "    </tr>\n",
       "    <tr>\n",
       "      <th>3</th>\n",
       "      <td>2018-06-05 01:00:00</td>\n",
       "      <td>SIDDHARTH NAGAR</td>\n",
       "      <td>ATTEMPTED MURDER</td>\n",
       "      <td>Q: Can we take your valuable feedback on you...</td>\n",
       "      <td>YES</td>\n",
       "      <td>Not Satisfied</td>\n",
       "      <td>Others</td>\n",
       "      <td>NA</td>\n",
       "      <td></td>\n",
       "      <td></td>\n",
       "    </tr>\n",
       "    <tr>\n",
       "      <th>4</th>\n",
       "      <td>2018-08-08 01:00:00</td>\n",
       "      <td>GONDA</td>\n",
       "      <td>DOMESTIC VIOLENCE</td>\n",
       "      <td>Q: Can we take your valuable feedback on you...</td>\n",
       "      <td>YES</td>\n",
       "      <td>Not Satisfied</td>\n",
       "      <td>Others</td>\n",
       "      <td>NA</td>\n",
       "      <td></td>\n",
       "      <td></td>\n",
       "    </tr>\n",
       "  </tbody>\n",
       "</table>\n",
       "</div>"
      ],
      "text/plain": [
       "                 Date         District         Type of Event  \\\n",
       "0 2018-08-02 01:00:00        ALLAHABAD  ABSCOND FROM CUSTODY   \n",
       "1 2018-05-12 01:00:00  SIDDHARTH NAGAR  ABSCOND FROM CUSTODY   \n",
       "2 2018-06-14 01:00:00   AMBEDKAR NAGAR  ABSCOND FROM CUSTODY   \n",
       "3 2018-06-05 01:00:00  SIDDHARTH NAGAR      ATTEMPTED MURDER   \n",
       "4 2018-08-08 01:00:00            GONDA     DOMESTIC VIOLENCE   \n",
       "\n",
       "                                Question and Remarks Can_We_Take_Feedback  \\\n",
       "0    Q: Can we take your valuable feedback on you...              YES       \n",
       "1    Q: Can we take your valuable feedback on you...              YES       \n",
       "2    Q: Can we take your valuable feedback on you...              YES       \n",
       "3    Q: Can we take your valuable feedback on you...              YES       \n",
       "4    Q: Can we take your valuable feedback on you...              YES       \n",
       "\n",
       "         satisfaction                               Reason_for_unsat  \\\n",
       "0   Not Satisfied       No action taken by Police Station staff.       \n",
       "1   Not Satisfied       No action taken by Police Station staff.       \n",
       "2   Not Satisfied       No action taken by Police Station staff.       \n",
       "3   Not Satisfied                                         Others       \n",
       "4   Not Satisfied                                         Others       \n",
       "\n",
       "  Additional_feedback                                             remark  \\\n",
       "0              NO       caller santust nahi hai thane ki police vipak...   \n",
       "1              -1       Caller Police Station gaye lekin unki koi bhi...   \n",
       "2              NO       Caller Police Station gaye lekin unki koi bhi...   \n",
       "3                  NA                                                      \n",
       "4                  NA                                                      \n",
       "\n",
       "  comments  \n",
       "0           \n",
       "1           \n",
       "2           \n",
       "3           \n",
       "4           "
      ]
     },
     "execution_count": 29,
     "metadata": {},
     "output_type": "execute_result"
    }
   ],
   "source": [
    "df.head()"
   ]
  },
  {
   "cell_type": "code",
   "execution_count": 44,
   "metadata": {},
   "outputs": [
    {
     "data": {
      "text/plain": [
       "3    42\n",
       "2    41\n",
       "1    34\n",
       "4    29\n",
       "6    20\n",
       "0    18\n",
       "5    16\n",
       "Name: weekday, dtype: int64"
      ]
     },
     "execution_count": 44,
     "metadata": {},
     "output_type": "execute_result"
    }
   ],
   "source": [
    "df['weekday'] = df['Date'].dt.dayofweek\n",
    "weekday_count = df['weekday'].value_counts()\n",
    "weekday_count\n"
   ]
  },
  {
   "cell_type": "code",
   "execution_count": 47,
   "metadata": {},
   "outputs": [
    {
     "data": {
      "application/vnd.plotly.v1+json": {
       "config": {
        "linkText": "Export to plot.ly",
        "plotlyServerURL": "https://plot.ly",
        "responsive": true,
        "showLink": true
       },
       "data": [
        {
         "marker": {
          "color": "rgba(255, 153, 51, 0.6)",
          "line": {
           "color": "rgba(255, 153, 51, 1.0)",
           "width": 1
          }
         },
         "name": "weekday",
         "orientation": "v",
         "text": "",
         "type": "bar",
         "uid": "8e43443e-e1a4-4424-a88f-18db1d339d95",
         "x": [
          3,
          2,
          1,
          4,
          6,
          0,
          5
         ],
         "y": [
          42,
          41,
          34,
          29,
          20,
          18,
          16
         ]
        }
       ],
       "layout": {
        "legend": {
         "bgcolor": "#F5F6F9",
         "font": {
          "color": "#4D5663"
         }
        },
        "paper_bgcolor": "#F5F6F9",
        "plot_bgcolor": "#F5F6F9",
        "title": {
         "font": {
          "color": "#4D5663"
         }
        },
        "xaxis": {
         "gridcolor": "#E1E5ED",
         "showgrid": true,
         "tickfont": {
          "color": "#4D5663"
         },
         "title": {
          "font": {
           "color": "#4D5663"
          },
          "text": ""
         },
         "zerolinecolor": "#E1E5ED"
        },
        "yaxis": {
         "gridcolor": "#E1E5ED",
         "showgrid": true,
         "tickfont": {
          "color": "#4D5663"
         },
         "title": {
          "font": {
           "color": "#4D5663"
          },
          "text": ""
         },
         "zerolinecolor": "#E1E5ED"
        }
       }
      },
      "text/html": [
       "<div>\n",
       "        \n",
       "        \n",
       "            <div id=\"bf597dea-0b91-4a8d-ad2f-84d46591c7aa\" class=\"plotly-graph-div\" style=\"height:525px; width:100%;\"></div>\n",
       "            <script type=\"text/javascript\">\n",
       "                require([\"plotly\"], function(Plotly) {\n",
       "                    window.PLOTLYENV=window.PLOTLYENV || {};\n",
       "                    window.PLOTLYENV.BASE_URL='https://plot.ly';\n",
       "                    \n",
       "                if (document.getElementById(\"bf597dea-0b91-4a8d-ad2f-84d46591c7aa\")) {\n",
       "                    Plotly.newPlot(\n",
       "                        'bf597dea-0b91-4a8d-ad2f-84d46591c7aa',\n",
       "                        [{\"marker\": {\"color\": \"rgba(255, 153, 51, 0.6)\", \"line\": {\"color\": \"rgba(255, 153, 51, 1.0)\", \"width\": 1}}, \"name\": \"weekday\", \"orientation\": \"v\", \"text\": \"\", \"type\": \"bar\", \"uid\": \"1e628bb5-ba71-413b-a5f1-de53721addbb\", \"x\": [3, 2, 1, 4, 6, 0, 5], \"y\": [42, 41, 34, 29, 20, 18, 16]}],\n",
       "                        {\"legend\": {\"bgcolor\": \"#F5F6F9\", \"font\": {\"color\": \"#4D5663\"}}, \"paper_bgcolor\": \"#F5F6F9\", \"plot_bgcolor\": \"#F5F6F9\", \"title\": {\"font\": {\"color\": \"#4D5663\"}}, \"xaxis\": {\"gridcolor\": \"#E1E5ED\", \"showgrid\": true, \"tickfont\": {\"color\": \"#4D5663\"}, \"title\": {\"font\": {\"color\": \"#4D5663\"}, \"text\": \"\"}, \"zerolinecolor\": \"#E1E5ED\"}, \"yaxis\": {\"gridcolor\": \"#E1E5ED\", \"showgrid\": true, \"tickfont\": {\"color\": \"#4D5663\"}, \"title\": {\"font\": {\"color\": \"#4D5663\"}, \"text\": \"\"}, \"zerolinecolor\": \"#E1E5ED\"}},\n",
       "                        {\"showLink\": true, \"linkText\": \"Export to plot.ly\", \"plotlyServerURL\": \"https://plot.ly\", \"responsive\": true}\n",
       "                    ).then(function(){\n",
       "                            \n",
       "var gd = document.getElementById('bf597dea-0b91-4a8d-ad2f-84d46591c7aa');\n",
       "var x = new MutationObserver(function (mutations, observer) {{\n",
       "        var display = window.getComputedStyle(gd).display;\n",
       "        if (!display || display === 'none') {{\n",
       "            console.log([gd, 'removed!']);\n",
       "            Plotly.purge(gd);\n",
       "            observer.disconnect();\n",
       "        }}\n",
       "}});\n",
       "\n",
       "// Listen for the removal of the full notebook cells\n",
       "var notebookContainer = gd.closest('#notebook-container');\n",
       "if (notebookContainer) {{\n",
       "    x.observe(notebookContainer, {childList: true});\n",
       "}}\n",
       "\n",
       "// Listen for the clearing of the current output cell\n",
       "var outputEl = gd.closest('.output');\n",
       "if (outputEl) {{\n",
       "    x.observe(outputEl, {childList: true});\n",
       "}}\n",
       "\n",
       "                        })\n",
       "                };\n",
       "                });\n",
       "            </script>\n",
       "        </div>"
      ]
     },
     "metadata": {},
     "output_type": "display_data"
    }
   ],
   "source": [
    "weekday_count.iplot(kind='bar')"
   ]
  },
  {
   "cell_type": "code",
   "execution_count": null,
   "metadata": {},
   "outputs": [],
   "source": []
  }
 ],
 "metadata": {
  "kernelspec": {
   "display_name": "Python 3",
   "language": "python",
   "name": "python3"
  },
  "language_info": {
   "codemirror_mode": {
    "name": "ipython",
    "version": 3
   },
   "file_extension": ".py",
   "mimetype": "text/x-python",
   "name": "python",
   "nbconvert_exporter": "python",
   "pygments_lexer": "ipython3",
   "version": "3.7.3"
  }
 },
 "nbformat": 4,
 "nbformat_minor": 2
}
