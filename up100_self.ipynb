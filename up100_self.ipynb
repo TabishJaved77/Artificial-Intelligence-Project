{
 "cells": [
  {
   "cell_type": "code",
   "execution_count": 1,
   "metadata": {},
   "outputs": [],
   "source": [
    "import numpy as np\n",
    "import pandas as pd\n",
    "import re\n"
   ]
  },
  {
   "cell_type": "code",
   "execution_count": 2,
   "metadata": {},
   "outputs": [],
   "source": [
    "url=r'C:\\Users\\shikh\\Desktop\\Exercise_1.csv'\n",
    "data = pd.read_csv(url)"
   ]
  },
  {
   "cell_type": "code",
   "execution_count": 3,
   "metadata": {},
   "outputs": [
    {
     "data": {
      "text/html": [
       "<div>\n",
       "<style scoped>\n",
       "    .dataframe tbody tr th:only-of-type {\n",
       "        vertical-align: middle;\n",
       "    }\n",
       "\n",
       "    .dataframe tbody tr th {\n",
       "        vertical-align: top;\n",
       "    }\n",
       "\n",
       "    .dataframe thead th {\n",
       "        text-align: right;\n",
       "    }\n",
       "</style>\n",
       "<table border=\"1\" class=\"dataframe\">\n",
       "  <thead>\n",
       "    <tr style=\"text-align: right;\">\n",
       "      <th></th>\n",
       "      <th>Date</th>\n",
       "      <th>District</th>\n",
       "      <th>Type of Event</th>\n",
       "      <th>Question and Remarks</th>\n",
       "    </tr>\n",
       "  </thead>\n",
       "  <tbody>\n",
       "    <tr>\n",
       "      <th>0</th>\n",
       "      <td>20180802.0</td>\n",
       "      <td>ALLAHABAD</td>\n",
       "      <td>ABSCOND FROM CUSTODY</td>\n",
       "      <td>Q: Can we take your valuable feedback on you...</td>\n",
       "    </tr>\n",
       "    <tr>\n",
       "      <th>1</th>\n",
       "      <td>20180512.0</td>\n",
       "      <td>SIDDHARTH NAGAR</td>\n",
       "      <td>ABSCOND FROM CUSTODY</td>\n",
       "      <td>Q: Can we take your valuable feedback on you...</td>\n",
       "    </tr>\n",
       "    <tr>\n",
       "      <th>2</th>\n",
       "      <td>20180614.0</td>\n",
       "      <td>AMBEDKAR NAGAR</td>\n",
       "      <td>ABSCOND FROM CUSTODY</td>\n",
       "      <td>Q: Can we take your valuable feedback on you...</td>\n",
       "    </tr>\n",
       "    <tr>\n",
       "      <th>3</th>\n",
       "      <td>20180605.0</td>\n",
       "      <td>SIDDHARTH NAGAR</td>\n",
       "      <td>ATTEMPTED MURDER</td>\n",
       "      <td>Q: Can we take your valuable feedback on you...</td>\n",
       "    </tr>\n",
       "    <tr>\n",
       "      <th>4</th>\n",
       "      <td>20180808.0</td>\n",
       "      <td>GONDA</td>\n",
       "      <td>DOMESTIC VIOLENCE</td>\n",
       "      <td>Q: Can we take your valuable feedback on you...</td>\n",
       "    </tr>\n",
       "  </tbody>\n",
       "</table>\n",
       "</div>"
      ],
      "text/plain": [
       "         Date         District         Type of Event  \\\n",
       "0  20180802.0        ALLAHABAD  ABSCOND FROM CUSTODY   \n",
       "1  20180512.0  SIDDHARTH NAGAR  ABSCOND FROM CUSTODY   \n",
       "2  20180614.0   AMBEDKAR NAGAR  ABSCOND FROM CUSTODY   \n",
       "3  20180605.0  SIDDHARTH NAGAR      ATTEMPTED MURDER   \n",
       "4  20180808.0            GONDA     DOMESTIC VIOLENCE   \n",
       "\n",
       "                                Question and Remarks  \n",
       "0    Q: Can we take your valuable feedback on you...  \n",
       "1    Q: Can we take your valuable feedback on you...  \n",
       "2    Q: Can we take your valuable feedback on you...  \n",
       "3    Q: Can we take your valuable feedback on you...  \n",
       "4    Q: Can we take your valuable feedback on you...  "
      ]
     },
     "execution_count": 3,
     "metadata": {},
     "output_type": "execute_result"
    }
   ],
   "source": [
    "data.head()"
   ]
  },
  {
   "cell_type": "code",
   "execution_count": 4,
   "metadata": {},
   "outputs": [],
   "source": [
    "df = pd.DataFrame(data)\n",
    "df = df.iloc[0:200]"
   ]
  },
  {
   "cell_type": "code",
   "execution_count": 5,
   "metadata": {},
   "outputs": [],
   "source": [
    "qna = df[\"Question and Remarks\"].tolist()\n",
    "broken = []\n",
    "for i in range(200):\n",
    "    broken.append(re.split('Q:|Ans:|Comment:|Remark:',qna[i]))\n",
    "    "
   ]
  },
  {
   "cell_type": "code",
   "execution_count": 6,
   "metadata": {},
   "outputs": [
    {
     "data": {
      "text/plain": [
       "['  ',\n",
       " ' Can we take your valuable feedback on your registered event with UP100 P12051805390?\\xa0\\xa0\\xa0',\n",
       " ' YES    ',\n",
       " ' Are you satisfied with the immediate relief provided to address your issue?\\xa0\\xa0\\xa0',\n",
       " ' Not Satisfied    ',\n",
       " ' Please select the reason\\xa0\\xa0\\xa0',\n",
       " ' No action taken by Police Station staff.    ',\n",
       " ' Do you want to share any additional feedback?\\xa0\\xa0\\xa0',\n",
       " ' -1    ',\n",
       " ' ',\n",
       " '    ',\n",
       " ' ',\n",
       " ' Caller Police Station gaye lekin unki koi bhi sahayta nahi kari gai. caller ko shak hai police ne ghoos liya hai kyoki caller call karke batata hai muzrim yaha hai paKADIYE par police kuch nahi karti hai ...   ']"
      ]
     },
     "execution_count": 6,
     "metadata": {},
     "output_type": "execute_result"
    }
   ],
   "source": [
    "broken[1]"
   ]
  },
  {
   "cell_type": "code",
   "execution_count": 54,
   "metadata": {},
   "outputs": [],
   "source": [
    "remark_col = []\n",
    "comments_col = []\n",
    "col_1 = []\n",
    "col_2 = []\n",
    "col_3 = []\n",
    "#col_4 is needed only if the length of an entry is 13. not needed in case of length 11\n",
    "col_4 = []\n",
    "for i in range(200):\n",
    "    broken[i][0] = len(broken[i])\n",
    "    remark_col.append(broken[i][-1])\n",
    "    comments_col.append(broken[i][-3])\n",
    "    col_1.append(broken[i][2])\n",
    "    col_2.append(broken[i][4])\n",
    "    col_3.append(broken[i][6])\n",
    "    if broken[i][0] == 13:\n",
    "        col_4.append(broken[i][8])\n",
    "    else:\n",
    "        col_4.append(\"NA\")\n",
    "        "
   ]
  },
  {
   "cell_type": "code",
   "execution_count": 57,
   "metadata": {},
   "outputs": [
    {
     "data": {
      "text/html": [
       "<div>\n",
       "<style scoped>\n",
       "    .dataframe tbody tr th:only-of-type {\n",
       "        vertical-align: middle;\n",
       "    }\n",
       "\n",
       "    .dataframe tbody tr th {\n",
       "        vertical-align: top;\n",
       "    }\n",
       "\n",
       "    .dataframe thead th {\n",
       "        text-align: right;\n",
       "    }\n",
       "</style>\n",
       "<table border=\"1\" class=\"dataframe\">\n",
       "  <thead>\n",
       "    <tr style=\"text-align: right;\">\n",
       "      <th></th>\n",
       "      <th>Date</th>\n",
       "      <th>District</th>\n",
       "      <th>Type of Event</th>\n",
       "      <th>Question and Remarks</th>\n",
       "      <th>Can_We_Take_Feedback</th>\n",
       "      <th>satisfaction</th>\n",
       "      <th>Reason_for_unsat</th>\n",
       "      <th>Additional_feedback</th>\n",
       "      <th>remark</th>\n",
       "      <th>comments</th>\n",
       "    </tr>\n",
       "  </thead>\n",
       "  <tbody>\n",
       "    <tr>\n",
       "      <th>0</th>\n",
       "      <td>20180802.0</td>\n",
       "      <td>ALLAHABAD</td>\n",
       "      <td>ABSCOND FROM CUSTODY</td>\n",
       "      <td>Q: Can we take your valuable feedback on you...</td>\n",
       "      <td>YES</td>\n",
       "      <td>Not Satisfied</td>\n",
       "      <td>No action taken by Police Station staff.</td>\n",
       "      <td>NO</td>\n",
       "      <td>caller santust nahi hai thane ki police vipak...</td>\n",
       "      <td></td>\n",
       "    </tr>\n",
       "    <tr>\n",
       "      <th>1</th>\n",
       "      <td>20180512.0</td>\n",
       "      <td>SIDDHARTH NAGAR</td>\n",
       "      <td>ABSCOND FROM CUSTODY</td>\n",
       "      <td>Q: Can we take your valuable feedback on you...</td>\n",
       "      <td>YES</td>\n",
       "      <td>Not Satisfied</td>\n",
       "      <td>No action taken by Police Station staff.</td>\n",
       "      <td>-1</td>\n",
       "      <td>Caller Police Station gaye lekin unki koi bhi...</td>\n",
       "      <td></td>\n",
       "    </tr>\n",
       "    <tr>\n",
       "      <th>2</th>\n",
       "      <td>20180614.0</td>\n",
       "      <td>AMBEDKAR NAGAR</td>\n",
       "      <td>ABSCOND FROM CUSTODY</td>\n",
       "      <td>Q: Can we take your valuable feedback on you...</td>\n",
       "      <td>YES</td>\n",
       "      <td>Not Satisfied</td>\n",
       "      <td>No action taken by Police Station staff.</td>\n",
       "      <td>NO</td>\n",
       "      <td>Caller Police Station gaye lekin unki koi bhi...</td>\n",
       "      <td></td>\n",
       "    </tr>\n",
       "    <tr>\n",
       "      <th>3</th>\n",
       "      <td>20180605.0</td>\n",
       "      <td>SIDDHARTH NAGAR</td>\n",
       "      <td>ATTEMPTED MURDER</td>\n",
       "      <td>Q: Can we take your valuable feedback on you...</td>\n",
       "      <td>YES</td>\n",
       "      <td>Not Satisfied</td>\n",
       "      <td>Others</td>\n",
       "      <td>NA</td>\n",
       "      <td></td>\n",
       "      <td></td>\n",
       "    </tr>\n",
       "    <tr>\n",
       "      <th>4</th>\n",
       "      <td>20180808.0</td>\n",
       "      <td>GONDA</td>\n",
       "      <td>DOMESTIC VIOLENCE</td>\n",
       "      <td>Q: Can we take your valuable feedback on you...</td>\n",
       "      <td>YES</td>\n",
       "      <td>Not Satisfied</td>\n",
       "      <td>Others</td>\n",
       "      <td>NA</td>\n",
       "      <td></td>\n",
       "      <td></td>\n",
       "    </tr>\n",
       "  </tbody>\n",
       "</table>\n",
       "</div>"
      ],
      "text/plain": [
       "         Date         District         Type of Event  \\\n",
       "0  20180802.0        ALLAHABAD  ABSCOND FROM CUSTODY   \n",
       "1  20180512.0  SIDDHARTH NAGAR  ABSCOND FROM CUSTODY   \n",
       "2  20180614.0   AMBEDKAR NAGAR  ABSCOND FROM CUSTODY   \n",
       "3  20180605.0  SIDDHARTH NAGAR      ATTEMPTED MURDER   \n",
       "4  20180808.0            GONDA     DOMESTIC VIOLENCE   \n",
       "\n",
       "                                Question and Remarks Can_We_Take_Feedback  \\\n",
       "0    Q: Can we take your valuable feedback on you...              YES       \n",
       "1    Q: Can we take your valuable feedback on you...              YES       \n",
       "2    Q: Can we take your valuable feedback on you...              YES       \n",
       "3    Q: Can we take your valuable feedback on you...              YES       \n",
       "4    Q: Can we take your valuable feedback on you...              YES       \n",
       "\n",
       "         satisfaction                               Reason_for_unsat  \\\n",
       "0   Not Satisfied       No action taken by Police Station staff.       \n",
       "1   Not Satisfied       No action taken by Police Station staff.       \n",
       "2   Not Satisfied       No action taken by Police Station staff.       \n",
       "3   Not Satisfied                                         Others       \n",
       "4   Not Satisfied                                         Others       \n",
       "\n",
       "  Additional_feedback                                             remark  \\\n",
       "0              NO       caller santust nahi hai thane ki police vipak...   \n",
       "1              -1       Caller Police Station gaye lekin unki koi bhi...   \n",
       "2              NO       Caller Police Station gaye lekin unki koi bhi...   \n",
       "3                  NA                                                      \n",
       "4                  NA                                                      \n",
       "\n",
       "  comments  \n",
       "0           \n",
       "1           \n",
       "2           \n",
       "3           \n",
       "4           "
      ]
     },
     "execution_count": 57,
     "metadata": {},
     "output_type": "execute_result"
    }
   ],
   "source": [
    "df['Can_We_Take_Feedback'] = col_1\n",
    "df['satisfaction'] = col_2\n",
    "df['Reason_for_unsat'] = col_3\n",
    "df['Additional_feedback'] = col_4\n",
    "df['remark']=remark_col\n",
    "df['comments']=comments_col\n",
    "df.head()"
   ]
  },
  {
   "cell_type": "code",
   "execution_count": 51,
   "metadata": {},
   "outputs": [
    {
     "ename": "AttributeError",
     "evalue": "'list' object has no attribute 'head'",
     "output_type": "error",
     "traceback": [
      "\u001b[1;31m---------------------------------------------------------------------------\u001b[0m",
      "\u001b[1;31mAttributeError\u001b[0m                            Traceback (most recent call last)",
      "\u001b[1;32m<ipython-input-51-2b817acaf45e>\u001b[0m in \u001b[0;36m<module>\u001b[1;34m\u001b[0m\n\u001b[0;32m      1\u001b[0m \u001b[0mframes\u001b[0m \u001b[1;33m=\u001b[0m \u001b[1;33m[\u001b[0m\u001b[0mdata\u001b[0m\u001b[1;33m,\u001b[0m\u001b[0mnew_cols\u001b[0m\u001b[1;33m]\u001b[0m\u001b[1;33m\u001b[0m\u001b[1;33m\u001b[0m\u001b[0m\n\u001b[1;32m----> 2\u001b[1;33m \u001b[0mframes\u001b[0m\u001b[1;33m.\u001b[0m\u001b[0mhead\u001b[0m\u001b[1;33m(\u001b[0m\u001b[1;33m)\u001b[0m\u001b[1;33m\u001b[0m\u001b[1;33m\u001b[0m\u001b[0m\n\u001b[0m",
      "\u001b[1;31mAttributeError\u001b[0m: 'list' object has no attribute 'head'"
     ]
    }
   ],
   "source": [
    "\n"
   ]
  },
  {
   "cell_type": "code",
   "execution_count": 56,
   "metadata": {},
   "outputs": [
    {
     "data": {
      "text/plain": [
       "77218"
      ]
     },
     "execution_count": 56,
     "metadata": {},
     "output_type": "execute_result"
    }
   ],
   "source": [
    "len(data)"
   ]
  },
  {
   "cell_type": "code",
   "execution_count": null,
   "metadata": {},
   "outputs": [],
   "source": []
  }
 ],
 "metadata": {
  "kernelspec": {
   "display_name": "Python 3",
   "language": "python",
   "name": "python3"
  },
  "language_info": {
   "codemirror_mode": {
    "name": "ipython",
    "version": 3
   },
   "file_extension": ".py",
   "mimetype": "text/x-python",
   "name": "python",
   "nbconvert_exporter": "python",
   "pygments_lexer": "ipython3",
   "version": "3.7.3"
  }
 },
 "nbformat": 4,
 "nbformat_minor": 2
}
